{
 "cells": [
  {
   "cell_type": "markdown",
   "metadata": {
    "nbgrader": {
     "grade": false,
     "grade_id": "cell-6f2b19db531e74fd",
     "locked": true,
     "schema_version": 1,
     "solution": false
    }
   },
   "source": [
    "# Part 2: Mining the web: Web APIs\n",
    "\n",
    "We hope the preceding exercise was painful: even with tools to process HTML, it is rough downloading raw HTML and trying to extract information from it!\n",
    "\n",
    "> Can you think of any other reasons why scraping websites for data in this way is not a good idea?\n",
    "\n",
    "Luckily, many websites provide an application programming interface (API) for querying their data or otherwise accessing their services from your programs. For instance, Twitter provides a web API for gathering tweets, Flickr provides one for gathering image data, and Github for accessing information about repository histories.\n",
    "\n",
    "These kinds of web APIs are much easier to use than, for instance, the preceding technique which scrapes raw web pages and then has to parse the resulting HTML. Moreover, there are more scalable in the sense that the web servers can transmit structured data in a less verbose form than raw HTML.\n",
    "\n",
    "As a starting example, here is some code to look at the activity on Github related to the public version of our course's materials."
   ]
  },
  {
   "cell_type": "code",
   "execution_count": 1,
   "metadata": {
    "nbgrader": {
     "grade": false,
     "grade_id": "cell-e969cac2e271f5ec",
     "locked": true,
     "schema_version": 1,
     "solution": false
    }
   },
   "outputs": [
    {
     "name": "stdout",
     "output_type": "stream",
     "text": [
      "==> .headers: {'Date': 'Wed, 09 Jan 2019 00:18:58 GMT', 'Content-Type': 'application/json; charset=utf-8', 'Transfer-Encoding': 'chunked', 'Server': 'GitHub.com', 'Status': '200 OK', 'X-RateLimit-Limit': '60', 'X-RateLimit-Remaining': '59', 'X-RateLimit-Reset': '1546996738', 'Cache-Control': 'public, max-age=60, s-maxage=60', 'Vary': 'Accept, Accept-Encoding', 'ETag': 'W/\"a8be1f6e66a99a5e9d59df6018e5d537\"', 'Last-Modified': 'Tue, 08 Jan 2019 22:43:29 GMT', 'X-Poll-Interval': '60', 'X-GitHub-Media-Type': 'github.v3; format=json', 'Access-Control-Expose-Headers': 'ETag, Link, Location, Retry-After, X-GitHub-OTP, X-RateLimit-Limit, X-RateLimit-Remaining, X-RateLimit-Reset, X-OAuth-Scopes, X-Accepted-OAuth-Scopes, X-Poll-Interval, X-GitHub-Media-Type', 'Access-Control-Allow-Origin': '*', 'Strict-Transport-Security': 'max-age=31536000; includeSubdomains; preload', 'X-Frame-Options': 'deny', 'X-Content-Type-Options': 'nosniff', 'X-XSS-Protection': '1; mode=block', 'Referrer-Policy': 'origin-when-cross-origin, strict-origin-when-cross-origin', 'Content-Security-Policy': \"default-src 'none'\", 'Content-Encoding': 'gzip', 'X-GitHub-Request-Id': 'CD5D:4FEA:A7628A8:D341D17:5C353DF2'} \n",
      "\n"
     ]
    }
   ],
   "source": [
    "import requests\n",
    "\n",
    "response = requests.get ('https://api.github.com/repos/cse6040/labs-fa17/events')\n",
    "\n",
    "print (\"==> .headers:\", response.headers, \"\\n\")"
   ]
  },
  {
   "cell_type": "markdown",
   "metadata": {
    "nbgrader": {
     "grade": false,
     "grade_id": "cell-2a08d680885303e5",
     "locked": true,
     "schema_version": 1,
     "solution": false
    }
   },
   "source": [
    "Note the `Content-Type` of the response:"
   ]
  },
  {
   "cell_type": "code",
   "execution_count": 2,
   "metadata": {
    "nbgrader": {
     "grade": false,
     "grade_id": "cell-89ebf4242e6c1940",
     "locked": true,
     "schema_version": 1,
     "solution": false
    }
   },
   "outputs": [
    {
     "name": "stdout",
     "output_type": "stream",
     "text": [
      "application/json; charset=utf-8\n"
     ]
    }
   ],
   "source": [
    "print (response.headers['Content-Type'])"
   ]
  },
  {
   "cell_type": "markdown",
   "metadata": {
    "nbgrader": {
     "grade": false,
     "grade_id": "cell-752159137c70eb17",
     "locked": true,
     "schema_version": 1,
     "solution": false
    }
   },
   "source": [
    "The response is in JSON format, which is an open format for exchanging semi-structured data. (JSON stands for **J**ava**S**cript **O**bject **N**otation.) JSON is designed to be human-readable and machine-readable, and maps especially well in Python to nested dictionaries. Let's take a look.\n",
    "\n",
    "> See also [this tutorial](http://www.w3schools.com/json/) for a JSON primer. JSON is among _the_ universal formats for sharing data on the web; see, for instance, https://www.sitepoint.com/10-example-json-files/."
   ]
  },
  {
   "cell_type": "code",
   "execution_count": 3,
   "metadata": {
    "nbgrader": {
     "grade": false,
     "grade_id": "cell-4bcf26ae80bab53b",
     "locked": true,
     "schema_version": 1,
     "solution": false
    }
   },
   "outputs": [
    {
     "name": "stdout",
     "output_type": "stream",
     "text": [
      "<class 'list'>\n",
      "[\n",
      "  {\n",
      "    \"actor\": {\n",
      "      \"avatar_url\": \"https://avatars.githubusercontent.com/u/38435630?\",\n",
      "      \"display_login\": \"jxzhou131\",\n",
      "      \"gravatar_id\": \"\",\n",
      "      \"id\": 38435630,\n",
      "      \"login\": \"jxzhou131\",\n",
      "      \"url\": \"https://api.github.com/users/jxzhou131\"\n",
      "    },\n",
      "    \"created_at\": \"2019-01-08T22:43:29Z\",\n",
      "    \"id\": \"8853849616\",\n",
      "    \"org\": {\n",
      "      \"avatar_url\": \"https://avatars.githubusercontent.com/u/31073927?\",\n",
      "      \"gravatar_id\": \"\",\n",
      "      \"id\": 31073927,\n",
      "      \"login\": \"cse6040\",\n",
      "      \"url\": \"https://api.github.com/orgs/cse6040\"\n",
      "    },\n",
      "    \"payload\": {\n",
      "      \"forkee\": {\n",
      "        \"archive_url\": \"https://api.github.com/repos/jxzhou131/labs-fa17/{archive_format}{/ref}\",\n",
      "        \"archived\": false,\n",
      "        \"assignees_url\": \"https://api.github.com/repos/jxzhou131/labs-fa17/assignees{/user}\",\n",
      "        \"blobs_url\": \"https://api.github.com/repos/jxzhou131/labs-fa17/git/blobs{/sha}\",\n",
      "        \"branches_url\": \"https://api.github.com/repos/jxzhou131/labs-fa17/branches{/branch}\",\n",
      "        \"clone_url\": \"https://github.com/jxzhou131/labs-fa17.git\",\n",
      "        \"collaborators_url\": \"https://api.github.com/repos/jxzhou131/labs-fa17/collaborators{/collaborator}\",\n",
      "        \"comments_url\": \"https://api.github.com/repos/jxzhou131/labs-fa17/comments{/number}\",\n",
      "        \"commits_url\": \"https://api.github.com/repos/jxzhou131/labs-fa17/commits{/sha}\",\n",
      "        \"compare_url\": \"https://api.github.com/repos/jxzhou131/labs-fa17/compare/{base}...{head}\",\n",
      "        \"contents_url\": \"https://api.github.com/repos/jxzhou131/labs-fa17/contents/{+path}\",\n",
      "        \"contributors_url\": \"https://api.github.com/repos/jxzhou131/labs-fa17/contributors\",\n",
      "        \"created_at\": \"2019-01-08T22:43:29Z\",\n",
      "        \"default_branch\": \"master\",\n",
      "        \"deployments_url\": \"https://api.github.com/repos/jxzhou131/labs-fa17/deployments\",\n",
      "        \"description\": \"Lab notebooks for the Fall 2017 offering of Georgia Tech's CSE 6040\",\n",
      "        \"downloads_url\": \"https://api.github.com/repos/jxzhou131/labs-fa17/downloads\",\n",
      "        \"events_url\": \"https://api.github.com/repos/jxzhou131/labs-fa17/events\",\n",
      "        \"fork\": true,\n",
      "        \"forks\": 0,\n",
      "        \"forks_count\": 0,\n",
      "        \"forks_url\": \"https://api.github.com/repos/jxzhou131/labs-fa17/forks\",\n",
      "        \"full_name\": \"jxzhou131/labs-fa17\",\n",
      "        \"git_commits_url\": \"https://api.github.com/repos/jxzhou131/labs-fa17/git/commits{/sha}\",\n",
      "        \"git_refs_url\": \"https://api.github.com/repos/jxzhou131/labs-fa17/git/refs{/sha}\",\n",
      "        \"git_tags_url\": \"https://api.github.com/repos/jxzhou131/labs-fa17/git/tags{/sha}\",\n",
      "        \"git_url\": \"git://github.com/jxzhou131/labs-fa17.git\",\n",
      "        \"has_downloads\": true,\n",
      "        \"has_issues\": false,\n",
      "        \"has_pages\": false,\n",
      "        \"has_projects\": true,\n",
      "        \"has_wiki\": true,\n",
      "        \"homepage\": null,\n",
      "        \"hooks_url\": \"https://api.github.com/repos/jxzhou131/labs-fa17/hooks\",\n",
      "        \"html_url\": \"https://github.com/jxzhou131/labs-fa17\",\n",
      "        \"id\": 164745687,\n",
      "        \"issue_comment_url\": \"https://api.github.com/repos/jxzhou131/labs-fa17/issues/comments{/number}\",\n",
      "        \"issue_events_url\": \"https://api.github.com/repos/jxzhou131/labs-fa17/issues/events{/number}\",\n",
      "        \"issues_url\": \"https://api.github.com/repos/jxzhou131/labs-fa17/issues{/number}\",\n",
      "        \"keys_url\": \"https://api.github.com/repos/jxzhou131/labs-fa17/keys{/key_id}\",\n",
      "        \"labels_url\": \"https://api.github.com/repos/jxzhou131/labs-fa17/labels{/name}\",\n",
      "        \"language\": null,\n",
      "        \"languages_url\": \"https://api.github.com/repos/jxzhou131/labs-fa17/languages\",\n",
      "        \"license\": null,\n",
      "        \"merges_url\": \"https://api.github.com/repos/jxzhou131/labs-fa17/merges\",\n",
      "        \"milestones_url\": \"https://api.github.com/repos/jxzhou131/labs-fa17/milestones{/number}\",\n",
      "        \"mirror_url\": null,\n",
      "        \"name\": \"labs-fa17\",\n",
      "        \"node_id\": \"MDEwOlJlcG9zaXRvcnkxNjQ3NDU2ODc=\",\n",
      "        \"notifications_url\": \"https://api.github.com/repos/jxzhou131/labs-fa17/notifications{?since,all,participating}\",\n",
      "        \"open_issues\": 0,\n",
      "        \"open_issues_count\": 0,\n",
      "        \"owner\": {\n",
      "          \"avatar_url\": \"https://avatars2.githubusercontent.com/u/38435630?v=4\",\n",
      "          \"events_url\": \"https://api.github.com/users/jxzhou131/events{/privacy}\",\n",
      "          \"followers_url\": \"https://api.github.com/users/jxzhou131/followers\",\n",
      "          \"following_url\": \"https://api.github.com/users/jxzhou131/following{/other_user}\",\n",
      "          \"gists_url\": \"https://api.github.com/users/jxzhou131/gists{/gist_id}\",\n",
      "          \"gravatar_id\": \"\",\n",
      "          \"html_url\": \"https://github.com/jxzhou131\",\n",
      "          \"id\": 38435630,\n",
      "          \"login\": \"jxzhou131\",\n",
      "          \"node_id\": \"MDQ6VXNlcjM4NDM1NjMw\",\n",
      "          \"organizations_url\": \"https://api.github.com/users/jxzhou131/orgs\",\n",
      "          \"received_events_url\": \"https://api.github.com/users/jxzhou131/received_events\",\n",
      "          \"repos_url\": \"https://api.github.com/users/jxzhou131/repos\",\n",
      "          \"site_admin\": false,\n",
      "          \"starred_url\": \"https://api.github.com/users/jxzhou131/starred{/owner}{/repo}\",\n",
      "          \"subscriptions_url\": \"https://api.github.com/users/jxzhou131/subscriptions\",\n",
      "          \"type\": \"User\",\n",
      "          \"url\": \"https://api.github.com/users/jxzhou131\"\n",
      "        },\n",
      "        \"private\": false,\n",
      "        \"public\": true,\n",
      "        \"pulls_url\": \"https://api.github.com/repos/jxzhou131/labs-fa17/pulls{/number}\",\n",
      "        \"pushed_at\": \"2017-11-26T05:20:15Z\",\n",
      "        \"releases_url\": \"https://api.github.com/repos/jxzhou131/labs-fa17/releases{/id}\",\n",
      "        \"size\": 34810,\n",
      "        \"ssh_url\": \"git@github.com:jxzhou131/labs-fa17.git\",\n",
      "        \"stargazers_count\": 0,\n",
      "        \"stargazers_url\": \"https://api.github.com/repos/jxzhou131/labs-fa17/stargazers\",\n",
      "        \"statuses_url\": \"https://api.github.com/repos/jxzhou131/labs-fa17/statuses/{sha}\",\n",
      "        \"subscribers_url\": \"https://api.github.com/repos/jxzhou131/labs-fa17/subscribers\",\n",
      "        \"subscription_url\": \"https://api.github.com/repos/jxzhou131/labs-fa17/subscription\",\n",
      "        \"svn_url\": \"https://github.com/jxzhou131/labs-fa17\",\n",
      "        \"tags_url\": \"https://api.github.com/repos/jxzhou131/labs-fa17/tags\",\n",
      "        \"teams_url\": \"https://api.github.com/repos/jxzhou131/labs-fa17/teams\",\n",
      "        \"trees_url\": \"https://api.github.com/repos/jxzhou131/labs-fa17/git/trees{/sha}\",\n",
      "        \"updated_at\": \"2019-01-07T00:00:45Z\",\n",
      "        \"url\": \"https://api.github.com/repos/jxzhou131/labs-fa17\",\n",
      "        \"watchers\": 0,\n",
      "        \"watchers_count\": 0\n",
      "      }\n",
      "    },\n",
      "    \"public\": true,\n",
      "    \"repo\": {\n",
      "      \"id\": 100506580,\n",
      "      \"name\": \"cse6040/labs-fa17\",\n",
      "      \"url\": \"https://api.github.com/repos/cse6040/labs-fa17\"\n",
      "    },\n",
      "    \"type\": \"ForkEvent\"\n",
      "  },\n",
      "  {\n",
      "    \"actor\": {\n",
      "      \"avatar_url\": \"https://avatars.githubusercontent.com/u/29968158?\",\n",
      "      \"display_login\": \"MCBoarder289\",\n",
      "      \"gravatar_id\": \"\",\n",
      "      \"id\": 29968158,\n",
      "      \"login\": \"MCBoarder289\",\n",
      "      \"url\": \"https://api.github.com/users/MCBoarder289\"\n",
      "    },\n",
      "    \"created_at\": \"2019-01-07T00:00:45Z\",\n",
      "    \"id\": \"8840981031\",\n",
      "    \"org\": {\n",
      "      \"avatar_url\": \"https://avatars.githubusercontent.com/u/31073927?\",\n",
      "      \"gravatar_id\": \"\",\n",
      "      \"id\": 31073927,\n",
      "      \"login\": \"cse6040\",\n",
      "      \"url\": \"https://api.github.com/orgs/cse6040\"\n",
      "    },\n",
      "    \"payload\": {\n",
      "      \"action\": \"started\"\n",
      "    },\n",
      "    \"public\": true,\n",
      "    \"repo\": {\n",
      "      \"id\": 100506580,\n",
      "      \"name\": \"cse6040/labs-fa17\",\n",
      "      \"url\": \"https://api.github.com/repos/cse6040/labs-fa17\"\n",
      "    },\n",
      "    \"type\": \"WatchEvent\"\n",
      "  },\n",
      "  {\n",
      "    \"actor\": {\n",
      "      \"avatar_url\": \"https://avatars.githubusercontent.com/u/6842826?\",\n",
      "      \"display_login\": \"djbermejo\",\n",
      "      \"gravatar_id\": \"\",\n",
      "      \"id\": 6842826,\n",
      "      \"login\": \"djbermejo\",\n",
      "      \"url\": \"https://api.github.com/users/djbermejo\"\n",
      "    },\n",
      "    \"created_at\": \"2019-01-02T21:41:45Z\",\n",
      "    \"id\": \"8825654225\",\n",
      "    \"org\": {\n",
      "      \"avatar_url\": \"https://avatars.githubusercontent.com/u/31073927?\",\n",
      "      \"gravatar_id\": \"\",\n",
      "      \"id\": 31073927,\n",
      "      \"login\": \"cse6040\",\n",
      "      \"url\": \"https://api.github.com/orgs/cse6040\"\n",
      "    },\n",
      "    \"payload\": {\n",
      "      \"forkee\": {\n",
      "        \"archive_url\": \"https://api.github.com/repos/djbermejo/labs-fa17/{archive_format}{/ref}\",\n",
      "        \"archived\": false,\n",
      "        \"assignees_url\": \"https://api.github.com/repos/djbermejo/labs-fa17/assignees{/user}\",\n",
      "        \"blobs_url\": \"https://api.github.com/repos/djbermejo/labs-fa17/git/blobs{/sha}\",\n",
      "        \"branches_url\": \"https://api.github.com/repos/djbermejo/labs-fa17/branches{/branch}\",\n",
      "        \"clone_url\": \"https://github.com/djbermejo/labs-fa17.git\",\n",
      "        \"collaborators_url\": \"https://api.github.com/repos/djbermejo/labs-fa17/collaborators{/collaborator}\",\n",
      "        \"comments_url\": \"https://api.github.com/repos/djbermejo/labs-fa17/comments{/number}\",\n",
      "        \"commits_url\": \"https://api.github.com/repos/djbermejo/labs-fa17/commits{/sha}\",\n",
      "        \"compare_url\": \"https://api.github.com/repos/djbermejo/labs-fa17/compare/{base}...{head}\",\n",
      "        \"contents_url\": \"https://api.github.com/repos/djbermejo/labs-fa17/contents/{+path}\",\n",
      "        \"contributors_url\": \"https://api.github.com/repos/djbermejo/labs-fa17/contributors\",\n",
      "        \"created_at\": \"2019-01-02T21:41:44Z\",\n",
      "        \"default_branch\": \"master\",\n",
      "        \"deployments_url\": \"https://api.github.com/repos/djbermejo/labs-fa17/deployments\",\n",
      "        \"description\": \"Lab notebooks for the Fall 2017 offering of Georgia Tech's CSE 6040\",\n",
      "        \"downloads_url\": \"https://api.github.com/repos/djbermejo/labs-fa17/downloads\",\n",
      "        \"events_url\": \"https://api.github.com/repos/djbermejo/labs-fa17/events\",\n",
      "        \"fork\": true,\n",
      "        \"forks\": 0,\n",
      "        \"forks_count\": 0,\n",
      "        \"forks_url\": \"https://api.github.com/repos/djbermejo/labs-fa17/forks\",\n",
      "        \"full_name\": \"djbermejo/labs-fa17\",\n",
      "        \"git_commits_url\": \"https://api.github.com/repos/djbermejo/labs-fa17/git/commits{/sha}\",\n",
      "        \"git_refs_url\": \"https://api.github.com/repos/djbermejo/labs-fa17/git/refs{/sha}\",\n",
      "        \"git_tags_url\": \"https://api.github.com/repos/djbermejo/labs-fa17/git/tags{/sha}\",\n",
      "        \"git_url\": \"git://github.com/djbermejo/labs-fa17.git\",\n",
      "        \"has_downloads\": true,\n",
      "        \"has_issues\": false,\n",
      "        \"has_pages\": false,\n",
      "        \"has_projects\": true,\n",
      "        \"has_wiki\": true,\n",
      "        \"homepage\": null,\n",
      "        \"hooks_url\": \"https://api.github.com/repos/djbermejo/labs-fa17/hooks\",\n",
      "        \"html_url\": \"https://github.com/djbermejo/labs-fa17\",\n",
      "        \"id\": 163892598,\n",
      "        \"issue_comment_url\": \"https://api.github.com/repos/djbermejo/labs-fa17/issues/comments{/number}\",\n",
      "        \"issue_events_url\": \"https://api.github.com/repos/djbermejo/labs-fa17/issues/events{/number}\",\n",
      "        \"issues_url\": \"https://api.github.com/repos/djbermejo/labs-fa17/issues{/number}\",\n",
      "        \"keys_url\": \"https://api.github.com/repos/djbermejo/labs-fa17/keys{/key_id}\",\n",
      "        \"labels_url\": \"https://api.github.com/repos/djbermejo/labs-fa17/labels{/name}\",\n",
      "        \"language\": null,\n",
      "        \"languages_url\": \"https://api.github.com/repos/djbermejo/labs-fa17/languages\",\n",
      "        \"license\": null,\n",
      "        \"merges_url\": \"https://api.github.com/repos/djbermejo/labs-fa17/merges\",\n",
      "        \"milestones_url\": \"https://api.github.com/repos/djbermejo/labs-fa17/milestones{/number}\",\n",
      "        \"mirror_url\": null,\n",
      "        \"name\": \"labs-fa17\",\n",
      "        \"node_id\": \"MDEwOlJlcG9zaXRvcnkxNjM4OTI1OTg=\",\n",
      "        \"notifications_url\": \"https://api.github.com/repos/djbermejo/labs-fa17/notifications{?since,all,participating}\",\n",
      "        \"open_issues\": 0,\n",
      "        \"open_issues_count\": 0,\n",
      "        \"owner\": {\n",
      "          \"avatar_url\": \"https://avatars1.githubusercontent.com/u/6842826?v=4\",\n",
      "          \"events_url\": \"https://api.github.com/users/djbermejo/events{/privacy}\",\n",
      "          \"followers_url\": \"https://api.github.com/users/djbermejo/followers\",\n",
      "          \"following_url\": \"https://api.github.com/users/djbermejo/following{/other_user}\",\n",
      "          \"gists_url\": \"https://api.github.com/users/djbermejo/gists{/gist_id}\",\n",
      "          \"gravatar_id\": \"\",\n",
      "          \"html_url\": \"https://github.com/djbermejo\",\n",
      "          \"id\": 6842826,\n",
      "          \"login\": \"djbermejo\",\n",
      "          \"node_id\": \"MDQ6VXNlcjY4NDI4MjY=\",\n",
      "          \"organizations_url\": \"https://api.github.com/users/djbermejo/orgs\",\n",
      "          \"received_events_url\": \"https://api.github.com/users/djbermejo/received_events\",\n",
      "          \"repos_url\": \"https://api.github.com/users/djbermejo/repos\",\n",
      "          \"site_admin\": false,\n",
      "          \"starred_url\": \"https://api.github.com/users/djbermejo/starred{/owner}{/repo}\",\n",
      "          \"subscriptions_url\": \"https://api.github.com/users/djbermejo/subscriptions\",\n",
      "          \"type\": \"User\",\n",
      "          \"url\": \"https://api.github.com/users/djbermejo\"\n",
      "        },\n",
      "        \"private\": false,\n",
      "        \"public\": true,\n",
      "        \"pulls_url\": \"https://api.github.com/repos/djbermejo/labs-fa17/pulls{/number}\",\n",
      "        \"pushed_at\": \"2017-11-26T05:20:15Z\",\n",
      "        \"releases_url\": \"https://api.github.com/repos/djbermejo/labs-fa17/releases{/id}\",\n",
      "        \"size\": 34810,\n",
      "        \"ssh_url\": \"git@github.com:djbermejo/labs-fa17.git\",\n",
      "        \"stargazers_count\": 0,\n",
      "        \"stargazers_url\": \"https://api.github.com/repos/djbermejo/labs-fa17/stargazers\",\n",
      "        \"statuses_url\": \"https://api.github.com/repos/djbermejo/labs-fa17/statuses/{sha}\",\n",
      "        \"subscribers_url\": \"https://api.github.com/repos/djbermejo/labs-fa17/subscribers\",\n",
      "        \"subscription_url\": \"https://api.github.com/repos/djbermejo/labs-fa17/subscription\",\n",
      "        \"svn_url\": \"https://github.com/djbermejo/labs-fa17\",\n",
      "        \"tags_url\": \"https://api.github.com/repos/djbermejo/labs-fa17/tags\",\n",
      "        \"teams_url\": \"https://api.github.com/repos/djbermejo/labs-fa17/teams\",\n",
      "        \"trees_url\": \"https://api.github.com/repos/djbermejo/labs-fa17/git/trees{/sha}\",\n",
      "        \"updated_at\": \"2019-01-02T06:17:09Z\",\n",
      "        \"url\": \"https://api.github.com/repos/djbermejo/labs-fa17\",\n",
      "        \"watchers\": 0,\n",
      "        \"watchers_count\": 0\n",
      "      }\n",
      "    },\n",
      "    \"public\": true,\n",
      "    \"repo\": {\n",
      "      \"id\": 100506580,\n",
      "      \"name\": \"cse6040/labs-fa17\",\n",
      "      \"url\": \"https://api.github.com/repos/cse6040/labs-fa17\"\n",
      "    },\n",
      "    \"type\": \"ForkEvent\"\n",
      "  }\n",
      "]\n"
     ]
    }
   ],
   "source": [
    "import json\n",
    "print(type(response.json ()))\n",
    "print(json.dumps(response.json()[:3], sort_keys=True, indent=2))"
   ]
  },
  {
   "cell_type": "markdown",
   "metadata": {
    "nbgrader": {
     "grade": false,
     "grade_id": "cell-5be03b16bcb0c40f",
     "locked": true,
     "schema_version": 1,
     "solution": false
    }
   },
   "source": [
    "**Exercise 0.** It should be self-evident that the JSON response above consists of a sequence of records, which we will refer to as _events_. Each event is associated with an _actor_. Write some code to extract a dictionary of all actors, where the key is the actor's login and the value is the actor's URL."
   ]
  },
  {
   "cell_type": "code",
   "execution_count": 4,
   "metadata": {
    "collapsed": true,
    "nbgrader": {
     "grade": false,
     "grade_id": "extract_actors",
     "locked": false,
     "schema_version": 1,
     "solution": true
    }
   },
   "outputs": [],
   "source": [
    "def extract_actors (json_github_events):\n",
    "    \"\"\"Given JSON records for events in a GitHub repo,\n",
    "    returns a dictionary of the actors and their URLs.\n",
    "    \"\"\"\n",
    "    urls = {}\n",
    "    for event in json_github_events:\n",
    "        actor = event['actor']['display_login']\n",
    "        url = event['actor']['url']\n",
    "        urls[actor] = url\n",
    "    return urls\n"
   ]
  },
  {
   "cell_type": "code",
   "execution_count": 5,
   "metadata": {
    "nbgrader": {
     "grade": true,
     "grade_id": "extract_actors_test",
     "locked": true,
     "points": 0,
     "schema_version": 1,
     "solution": false
    }
   },
   "outputs": [
    {
     "name": "stdout",
     "output_type": "stream",
     "text": [
      "jxzhou131: https://api.github.com/users/jxzhou131\n",
      "MCBoarder289: https://api.github.com/users/MCBoarder289\n",
      "djbermejo: https://api.github.com/users/djbermejo\n",
      "keithdowd: https://api.github.com/users/keithdowd\n",
      "schr0841: https://api.github.com/users/schr0841\n",
      "sanation: https://api.github.com/users/sanation\n",
      "ddthomas26: https://api.github.com/users/ddthomas26\n",
      "stupidkiddy: https://api.github.com/users/stupidkiddy\n",
      "microjrm: https://api.github.com/users/microjrm\n",
      "chss: https://api.github.com/users/chss\n",
      "Csipke: https://api.github.com/users/Csipke\n",
      "yogeshkulkarni11: https://api.github.com/users/yogeshkulkarni11\n"
     ]
    }
   ],
   "source": [
    "actor_urls = extract_actors(response.json ())\n",
    "\n",
    "for actor, url in actor_urls.items ():\n",
    "    print ('{}: {}'.format(actor, url))\n",
    "    assert url == \"https://api.github.com/users/{}\".format(actor)"
   ]
  },
  {
   "cell_type": "markdown",
   "metadata": {
    "nbgrader": {
     "grade": false,
     "grade_id": "cell-23355ce56dd4dcdc",
     "locked": true,
     "schema_version": 1,
     "solution": false
    }
   },
   "source": [
    "**Exercise 1.** Write some code that goes to each actor's URL and determines their name. If an actor URL is invalid, that actor should not appear in the output."
   ]
  },
  {
   "cell_type": "code",
   "execution_count": 6,
   "metadata": {
    "collapsed": true,
    "nbgrader": {
     "grade": false,
     "grade_id": "get_names",
     "locked": false,
     "schema_version": 1,
     "solution": true
    }
   },
   "outputs": [],
   "source": [
    "def lookup_names (actor_urls):\n",
    "    \"\"\"Given a dictionary of (actor, url) pairs, looks up the JSON at\n",
    "    the URL and extracts the user's name (if any). Returns a new\n",
    "    dictionary of (actor, name) pairs.\n",
    "    \"\"\"\n",
    "    import re\n",
    "    \n",
    "    names = {}\n",
    "    for actor, url in actor_urls.items ():\n",
    "        response = requests.get (url)\n",
    "        \n",
    "        # Possible error conditions\n",
    "        if response is None: continue\n",
    "        if re.search ('application/json', response.headers['Content-Type']) is None: continue\n",
    "        if 'name' not in response.json (): continue\n",
    "            \n",
    "        names[actor] = response.json ()['name']\n",
    "    return names\n"
   ]
  },
  {
   "cell_type": "code",
   "execution_count": 8,
   "metadata": {
    "nbgrader": {
     "grade": true,
     "grade_id": "get_names_test",
     "locked": true,
     "points": 0,
     "schema_version": 1,
     "solution": false
    }
   },
   "outputs": [
    {
     "name": "stdout",
     "output_type": "stream",
     "text": [
      "jxzhou131: None\n",
      "MCBoarder289: Michael Chapman\n",
      "djbermejo: None\n",
      "keithdowd: Keith\n",
      "schr0841: Greg Schreiter\n",
      "sanation: None\n",
      "ddthomas26: None\n",
      "stupidkiddy: None\n",
      "microjrm: Jonathan Motyka\n",
      "chss: Manish jariwala\n",
      "Csipke: None\n",
      "yogeshkulkarni11: None\n"
     ]
    }
   ],
   "source": [
    "actor_names = lookup_names (actor_urls)\n",
    "\n",
    "for actor, name in actor_names.items ():\n",
    "    print (\"{}: {}\".format (actor, name))\n",
    "    \n",
    "#assert actor_names['rvuduc'] == 'Rich Vuduc (personal account)'"
   ]
  },
  {
   "cell_type": "markdown",
   "metadata": {
    "nbgrader": {
     "grade": false,
     "grade_id": "cell-ae7abfbce62b1cd6",
     "locked": true,
     "schema_version": 1,
     "solution": false
    }
   },
   "source": [
    "That's the end of this notebook. Processing JSON is fairly straightforward, because it maps very naturally to nested dictionaries in Python. You might search the web for other sources of JSON data, including [this one](https://www.yelp.com/dataset/challenge), and do your own processing!"
   ]
  }
 ],
 "metadata": {
  "celltoolbar": "Create Assignment",
  "kernelspec": {
   "display_name": "Python 3",
   "language": "python",
   "name": "python3"
  },
  "language_info": {
   "codemirror_mode": {
    "name": "ipython",
    "version": 3
   },
   "file_extension": ".py",
   "mimetype": "text/x-python",
   "name": "python",
   "nbconvert_exporter": "python",
   "pygments_lexer": "ipython3",
   "version": "3.6.2"
  }
 },
 "nbformat": 4,
 "nbformat_minor": 1
}
