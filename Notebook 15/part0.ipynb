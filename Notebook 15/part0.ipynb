{
 "cells": [
  {
   "cell_type": "markdown",
   "metadata": {
    "nbgrader": {
     "grade": false,
     "grade_id": "cell-ba14017658eb4613",
     "locked": true,
     "schema_version": 1,
     "solution": false
    }
   },
   "source": [
    "# Compression via the PCA and the SVD\n",
    "\n",
    "The main topic of this lesson is a data analysis method referred to as _Principal Components Analysis_ (PCA). The method requires computing the eigenvectors of a certain matrix; one way to compute those eigenvectors is to use a special factorization from linear algebra called the _Singular Value Decomposition_ (SVD).\n",
    "\n",
    "This notebook is simply a collection of notes with a little bit of code to help illustrate the main ideas. It does not have any exercises that you need to submit. However, you should try to understand all the code steps that appear in the subsection entitled, **Principal Components Analysis (PCA)**, as you will need to apply the SVD in a subsequent part of this assignment."
   ]
  },
  {
   "cell_type": "markdown",
   "metadata": {
    "nbgrader": {
     "grade": false,
     "grade_id": "cell-c772d79b04127448",
     "locked": true,
     "schema_version": 1,
     "solution": false
    }
   },
   "source": [
    "**Motivation: data \"compression.\"** In previous lessons, we've looked at a few of the major tasks in data analysis: _ranking_, _regression_, _classification_, and _clustering_. Beyond these, the last problem you'll consider in our class is what we'll call _compression_.\n",
    "\n",
    "At a high level, the term compression simply refers to finding any compact representation of the data. Such representations can help us in two ways. First, it can make the data set smaller and therefore faster to process or analyze. Secondly, choosing a clever representation can reveal hidden structure."
   ]
  },
  {
   "cell_type": "markdown",
   "metadata": {
    "nbgrader": {
     "grade": false,
     "grade_id": "cell-37d1efa8fc308f63",
     "locked": true,
     "schema_version": 1,
     "solution": false
    }
   },
   "source": [
    "As a concrete example, consider the problem of _dimensionality reduction_: given a $d$-dimensional data set, we wish to transform it into a smaller $k$-dimensional data set where $k \\leq d$.\n",
    "\n",
    "Choosing the $k$ dimensions in a clever way might even reveal structure that is hard to see in all $d$ original dimensions. For instance, look at the examples at the \"visualizing PCA\" website:\n",
    "\n",
    "http://setosa.io/ev/principal-component-analysis/"
   ]
  },
  {
   "cell_type": "markdown",
   "metadata": {
    "nbgrader": {
     "grade": false,
     "grade_id": "cell-155596ed021f14c3",
     "locked": true,
     "schema_version": 1,
     "solution": false
    }
   },
   "source": [
    "## Data: Nutrition in the UK\n",
    "\n",
    "Here is one of those examples, which is nutritional data gathered in a study of four countries of the United Kingdom. (Researchers tabulated the average number of grams consumed per week by an individual living in a particular country, broken down along various food and drink categories.)"
   ]
  },
  {
   "cell_type": "code",
   "execution_count": 1,
   "metadata": {
    "collapsed": true,
    "nbgrader": {
     "grade": false,
     "grade_id": "cell-7629cee847136bd3",
     "locked": true,
     "schema_version": 1,
     "solution": false
    }
   },
   "outputs": [],
   "source": [
    "import numpy as np\n",
    "import pandas as pd\n",
    "import seaborn as sns\n",
    "import matplotlib.pyplot as plt\n",
    "from IPython.display import display\n",
    "\n",
    "%matplotlib inline"
   ]
  },
  {
   "cell_type": "code",
   "execution_count": 2,
   "metadata": {
    "nbgrader": {
     "grade": false,
     "grade_id": "cell-4144748af081497f",
     "locked": true,
     "schema_version": 1,
     "solution": false
    }
   },
   "outputs": [
    {
     "name": "stdout",
     "output_type": "stream",
     "text": [
      "'uk-nutrition-data.csv' is ready!\n",
      "\n",
      "(All data appears to be ready.)\n"
     ]
    }
   ],
   "source": [
    "import requests\n",
    "import os\n",
    "import hashlib\n",
    "import io\n",
    "\n",
    "def on_vocareum():\n",
    "    return os.path.exists('.voc')\n",
    "\n",
    "def download(file, local_dir=\"\", url_base=None, checksum=None):\n",
    "    local_file = \"{}{}\".format(local_dir, file)\n",
    "    if not os.path.exists(local_file):\n",
    "        if url_base is None:\n",
    "            url_base = \"https://cse6040.gatech.edu/datasets/\"\n",
    "        url = \"{}{}\".format(url_base, file)\n",
    "        print(\"Downloading: {} ...\".format(url))\n",
    "        r = requests.get(url)\n",
    "        with open(local_file, 'wb') as f:\n",
    "            f.write(r.content)\n",
    "            \n",
    "    if checksum is not None:\n",
    "        with io.open(local_file, 'rb') as f:\n",
    "            body = f.read()\n",
    "            body_checksum = hashlib.md5(body).hexdigest()\n",
    "            assert body_checksum == checksum, \\\n",
    "                \"Downloaded file '{}' has incorrect checksum: '{}' instead of '{}'\".format(local_file,\n",
    "                                                                                           body_checksum,\n",
    "                                                                                           checksum)\n",
    "    print(\"'{}' is ready!\".format(file))\n",
    "    \n",
    "if on_vocareum():\n",
    "    URL_BASE = \"https://cse6040.gatech.edu/datasets/uk-food/\"\n",
    "    DATA_PATH = \"../resource/asnlib/publicdata/\"\n",
    "else:\n",
    "    URL_BASE = \"https://github.com/cse6040/labs-fa17/raw/master/datasets/uk-food/\"\n",
    "    DATA_PATH = \"\"\n",
    "\n",
    "datasets = {'uk-nutrition-data.csv': 'a6cdc2fb658bacfdf50797c625aa3815'}\n",
    "\n",
    "for filename, checksum in datasets.items():\n",
    "    download(filename, local_dir=DATA_PATH, url_base=URL_BASE, checksum=checksum)\n",
    "    \n",
    "print(\"\\n(All data appears to be ready.)\")"
   ]
  },
  {
   "cell_type": "code",
   "execution_count": 3,
   "metadata": {
    "nbgrader": {
     "grade": false,
     "grade_id": "cell-2adbbf7e1b0426c6",
     "locked": true,
     "schema_version": 1,
     "solution": false
    }
   },
   "outputs": [
    {
     "name": "stdout",
     "output_type": "stream",
     "text": [
      "17 x 5 table of data:\n"
     ]
    },
    {
     "data": {
      "text/html": [
       "<div>\n",
       "<style>\n",
       "    .dataframe thead tr:only-child th {\n",
       "        text-align: right;\n",
       "    }\n",
       "\n",
       "    .dataframe thead th {\n",
       "        text-align: left;\n",
       "    }\n",
       "\n",
       "    .dataframe tbody tr th {\n",
       "        vertical-align: top;\n",
       "    }\n",
       "</style>\n",
       "<table border=\"1\" class=\"dataframe\">\n",
       "  <thead>\n",
       "    <tr style=\"text-align: right;\">\n",
       "      <th></th>\n",
       "      <th>Product</th>\n",
       "      <th>England</th>\n",
       "      <th>Northern Ireland</th>\n",
       "      <th>Scotland</th>\n",
       "      <th>Wales</th>\n",
       "    </tr>\n",
       "  </thead>\n",
       "  <tbody>\n",
       "    <tr>\n",
       "      <th>0</th>\n",
       "      <td>Alcoholic drinks</td>\n",
       "      <td>375</td>\n",
       "      <td>135</td>\n",
       "      <td>458</td>\n",
       "      <td>475</td>\n",
       "    </tr>\n",
       "    <tr>\n",
       "      <th>1</th>\n",
       "      <td>Beverages</td>\n",
       "      <td>57</td>\n",
       "      <td>47</td>\n",
       "      <td>53</td>\n",
       "      <td>73</td>\n",
       "    </tr>\n",
       "    <tr>\n",
       "      <th>2</th>\n",
       "      <td>Meat</td>\n",
       "      <td>245</td>\n",
       "      <td>267</td>\n",
       "      <td>242</td>\n",
       "      <td>227</td>\n",
       "    </tr>\n",
       "    <tr>\n",
       "      <th>3</th>\n",
       "      <td>Cereals</td>\n",
       "      <td>1472</td>\n",
       "      <td>1494</td>\n",
       "      <td>1462</td>\n",
       "      <td>1582</td>\n",
       "    </tr>\n",
       "    <tr>\n",
       "      <th>4</th>\n",
       "      <td>Cheese</td>\n",
       "      <td>105</td>\n",
       "      <td>66</td>\n",
       "      <td>103</td>\n",
       "      <td>103</td>\n",
       "    </tr>\n",
       "  </tbody>\n",
       "</table>\n",
       "</div>"
      ],
      "text/plain": [
       "            Product  England  Northern Ireland  Scotland  Wales\n",
       "0  Alcoholic drinks      375               135       458    475\n",
       "1         Beverages       57                47        53     73\n",
       "2              Meat      245               267       242    227\n",
       "3           Cereals     1472              1494      1462   1582\n",
       "4            Cheese      105                66       103    103"
      ]
     },
     "metadata": {},
     "output_type": "display_data"
    },
    {
     "name": "stdout",
     "output_type": "stream",
     "text": [
      "...\n"
     ]
    },
    {
     "data": {
      "text/plain": [
       "Text(0.5,0.98,'Grams per week per person')"
      ]
     },
     "execution_count": 3,
     "metadata": {},
     "output_type": "execute_result"
    },
    {
     "data": {
      "image/png": "[encoded data removed]",
      "text/plain": [
       "<matplotlib.figure.Figure at 0x7f3a6b5ae320>"
      ]
     },
     "metadata": {},
     "output_type": "display_data"
    }
   ],
   "source": [
    "df_uk = pd.read_csv('{}uk-nutrition-data.csv'.format(DATA_PATH))\n",
    "print(\"{} x {} table of data:\".format(df_uk.shape[0], df_uk.shape[1]))\n",
    "display(df_uk.head ())\n",
    "print(\"...\")\n",
    "\n",
    "fig, axes = plt.subplots(1, 4, figsize=(12, 6), sharey=True)\n",
    "countries = df_uk.columns.difference(['Product'])\n",
    "for i in range(len(countries)):\n",
    "    sns.barplot(x=countries[i], y='Product', data=df_uk, ax=axes[i])\n",
    "    axes[i].set_ylabel(\"\")\n",
    "fig.suptitle(\"Grams per week per person\")"
   ]
  },
  {
   "cell_type": "markdown",
   "metadata": {
    "nbgrader": {
     "grade": false,
     "grade_id": "cell-133fdd5b9f9b3453",
     "locked": true,
     "schema_version": 1,
     "solution": false
    }
   },
   "source": [
    "Do the countries differ in any significant way? Looking only at the bar charts, it is probably hard to tell unless you are very perceptive, and in any case, visual inspection is a very _ad hoc_ technique. Is there a more systematic way?"
   ]
  },
  {
   "cell_type": "markdown",
   "metadata": {
    "nbgrader": {
     "grade": false,
     "grade_id": "cell-4572ac5067303a1f",
     "locked": true,
     "schema_version": 1,
     "solution": false
    }
   },
   "source": [
    "# Principal components analysis (PCA)\n",
    "\n",
    "The method of _principal components analysis_ (PCA) is one such technique. For this example, it would start by viewing these data as four (4) data points, one for each country, embedded in a 17-dimensional space (one dimension per food category). The following page will help build your intuition for PCA; the notes that then follow below show formally how PCA works and derives an algorithm to compute it.\n",
    "\n",
    "http://setosa.io/ev/principal-component-analysis/"
   ]
  },
  {
   "cell_type": "markdown",
   "metadata": {
    "nbgrader": {
     "grade": false,
     "grade_id": "cell-53b17659bc973931",
     "locked": true,
     "schema_version": 1,
     "solution": false
    }
   },
   "source": [
    "## Basic definitions\n",
    "\n",
    "**Input data matrix, centered.** Per our usual conventions, let $\\hat{x}_0, \\ldots, \\hat{x}_{m-1}$ be th $m$ data points, where each $x_i \\in \\mathbb{R}^d$ is a single observation. Each observation is represented by a $d$-dimensional real-valued vector corresponding to $d$ measured predictors. As usual, we can stack these into a data matrix, denoted $X \\equiv \\left(\\begin{array}{c} \\hat{x}_0^T \\\\ \\vdots \\\\ \\hat{x}_{m-1}^T \\end{array}\\right)$.\n",
    "\n",
    "However, we'll add one more important assumption: these data should be _centered_ about their mean, i.e., $\\frac{1}{m} \\sum_{i=0}^{m-1} \\hat{x}_i = 0$. If the observations are not centered initially, then preprocess them accordingly."
   ]
  },
  {
   "cell_type": "markdown",
   "metadata": {
    "nbgrader": {
     "grade": false,
     "grade_id": "cell-69cd280de2cd7129",
     "locked": true,
     "schema_version": 1,
     "solution": false
    }
   },
   "source": [
    "**Projections.** Let $\\varphi \\in \\mathbb{R}^d$ be a vector of unit length, i.e., $\\|\\varphi\\|_2^2 = \\varphi^T \\varphi = 1$. The _projection_ of a data point $\\hat{x}_i$ onto $\\varphi$ is $\\hat{x}_i^T \\varphi$, which measures the length of the projected vector.\n",
    "\n",
    "The following code cell illustrates a projection. Given a vector `x_hat` and a line represented by a unit vector `phi`, it computes the projection  `x_hat_proj_phi` of `x_hat` onto `phi`."
   ]
  },
  {
   "cell_type": "code",
   "execution_count": 4,
   "metadata": {
    "collapsed": true
   },
   "outputs": [],
   "source": [
    "# Define a projection\n",
    "x_hat = np.array([0.25, 0.75]) # Vector to project\n",
    "phi = np.array([0.5, 0.25]) ; phi = phi / np.linalg.norm(phi) # Unit vector onto which to project x_hat\n",
    "x_hat_proj_phi = x_hat.T.dot(phi) * phi # Carry out the projection"
   ]
  },
  {
   "cell_type": "code",
   "execution_count": 5,
   "metadata": {},
   "outputs": [
    {
     "data": {
      "image/png": "[encoded data removed]",
      "text/plain": [
       "<matplotlib.figure.Figure at 0x7fb9f832ba58>"
      ]
     },
     "metadata": {},
     "output_type": "display_data"
    },
    {
     "name": "stdout",
     "output_type": "stream",
     "text": [
      "* Black arrow: `phi` (len=1.000)\n",
      "* Blue arrow: `x_hat` (len=0.791)\n",
      "* Red arrow: projection of `x_hat` onto `phi` (len=0.559)\n"
     ]
    }
   ],
   "source": [
    "# Visualize the projection (you don't need to understand this code cell in any detail)\n",
    "import matplotlib.lines as mlines\n",
    "\n",
    "plt.figure(figsize=(3, 3))\n",
    "ax = plt.axes()\n",
    "ax.arrow(0, 0, x_hat[0], x_hat[1], head_width=0.05, head_length=0.05, fc='b', ec='b', length_includes_head=True)\n",
    "ax.arrow(0, 0, phi[0], phi[1], head_width=0.05, head_length=0.05, fc='k', ec='k', length_includes_head=True)\n",
    "ax.arrow(0, 0, x_hat_proj_phi[0], x_hat_proj_phi[1], head_width=0.025, head_length=0.025, fc='r', ec='r', length_includes_head=True)\n",
    "\n",
    "perp_line = mlines.Line2D([x_hat[0], x_hat_proj_phi[0]],\n",
    "                          [x_hat[1], x_hat_proj_phi[1]],\n",
    "                          linestyle='--', color='k')\n",
    "ax.add_line(perp_line)\n",
    "ax.axis('equal') # Equal ratios, so you can tell what is perpendicular to what\n",
    "ax.axis([0, 1, 0, 1])\n",
    "\n",
    "dx, dy = 0.02, 0.02\n",
    "plt.annotate('x_hat', xy=(x_hat[0]+dx, x_hat[1]+dy), color='b')\n",
    "plt.annotate('phi', xy=(phi[0]+dx, phi[1]+dy), color='k')\n",
    "plt.annotate('projection', xy=(x_hat_proj_phi[0]+dx, x_hat_proj_phi[1]+dy), color='r')\n",
    "\n",
    "plt.show()\n",
    "\n",
    "msg = \"\"\"* Black arrow: `phi` (len={:.3f})\n",
    "* Blue arrow: `x_hat` (len={:.3f})\n",
    "* Red arrow: projection of `x_hat` onto `phi` (len={:.3f})\"\"\"\n",
    "print(msg.format(np.linalg.norm(phi),\n",
    "                 np.linalg.norm(x_hat),\n",
    "                 np.linalg.norm(x_hat_proj_phi)))"
   ]
  },
  {
   "cell_type": "markdown",
   "metadata": {},
   "source": [
    "## Maximizing projections\n",
    "\n",
    "If the length of a projected data point is large, then intuitively, we have \"preserved\" its shape. So let's think of the total length of projections of all the data points as a measure of cost, which we can then try to maximmize.\n",
    "\n",
    "**Projection cost.** Let $J(\\varphi)$ be a cost function that is proportional to the mean squared projections of the data onto $\\varphi$:\n",
    "\n",
    "$$\n",
    "\\begin{array}{rcl}\n",
    "  J(\\phi)\n",
    "    & \\equiv & \\displaystyle\n",
    "      \\frac{1}{2m} \\sum_{i=0}^{m-1} (\\hat{x}_i^T \\varphi)^2.\n",
    "\\end{array}\n",
    "$$\n",
    "\n",
    "The additional factor of \"1/2\" is for aesthetic reasons. (It cancels out later on.)"
   ]
  },
  {
   "cell_type": "markdown",
   "metadata": {
    "nbgrader": {
     "grade": false,
     "grade_id": "cell-664831dc7c50e955",
     "locked": true,
     "schema_version": 1,
     "solution": false
    }
   },
   "source": [
    "Let's also apply some algebra-fu to the right-hand side to put it into a more concise matrix form:\n",
    "\n",
    "$$\n",
    "\\begin{array}{rcl}\n",
    "  J(\\phi)\n",
    "    &    =   & \\displaystyle\n",
    "      \\frac{1}{2} \\varphi^T \\left(\\frac{1}{m} \\sum_{i=0}^{m-1} \\hat{x}_i \\hat{x}_i^T \\right) \\varphi \\\\\n",
    "    &    =   & \\displaystyle\n",
    "      \\frac{1}{2} \\varphi^T \\left(\\frac{1}{m} X^T X\\right) \\varphi \\\\\n",
    "    & \\equiv & \\displaystyle\n",
    "      \\frac{1}{2} \\varphi^T C \\varphi.\n",
    "\\end{array}\n",
    "$$\n",
    "\n",
    "In the last step, we defined $C \\equiv \\frac{1}{m} X^T X$. In statistics, if $X$ represents mean-centered data, then the matrix $C$ is also known as the [_sample covariance matrix_](https://en.wikipedia.org/wiki/Sample_mean_and_covariance) of the data."
   ]
  },
  {
   "cell_type": "markdown",
   "metadata": {
    "nbgrader": {
     "grade": false,
     "grade_id": "cell-efbc3c5bce026478",
     "locked": true,
     "schema_version": 1,
     "solution": false
    }
   },
   "source": [
    "**Principal components via maximizing projections.** There are several ways to formulate the PCA problem. Here we consider the one based on _maximizing projections_.\n",
    "\n",
    "Start by defining a _principal component_ of the data $X$ to be a vector, $\\varphi$, of unit length that maximizes the sum of squared projections.\n",
    "\n",
    "To convert this definition into a formal problem, there is a technique known as the _method of Langrange multipliers_, which may be applied to any minimization or maximization problem that has equality constraints. The idea is to modify the cost function in a certain way that effectively incorporates each constraint: for each constraint you will add to the cost function a term proportional to a dummy parameter times some form of the constraint."
   ]
  },
  {
   "cell_type": "markdown",
   "metadata": {
    "nbgrader": {
     "grade": false,
     "grade_id": "cell-8ceed2cb34857b79",
     "locked": true,
     "schema_version": 1,
     "solution": false
    }
   },
   "source": [
    "Huh? It's easiest to see this formulation by example. In the case of a principal component, the modified cost function is\n",
    "\n",
    "$$\n",
    "\\begin{array}{rcl}\n",
    "  \\hat{J}(\\varphi, \\lambda)\n",
    "    & \\equiv & \\displaystyle\n",
    "      J(\\varphi) + \\frac{\\lambda}{2} (1 - \\varphi^T \\varphi),\n",
    "\\end{array}\n",
    "$$\n",
    "\n",
    "where the second term captures the constraint: it introduces a dummy optimization parameter, $\\lambda$, times the constraint that $\\varphi$ has unit length, i.e., $\\|\\varphi\\|_2^2 = \\varphi^T \\varphi = 1$, or $1 - \\varphi^T \\varphi = 0$.\n",
    "\n",
    "> The reason to add the constraint in this way should become clear momentarily.\n",
    ">\n",
    "> As before, the factor of \"1/2\" is there solely for aesthetic reasons and will \"cancel out,\" as you'll soon see."
   ]
  },
  {
   "cell_type": "markdown",
   "metadata": {
    "nbgrader": {
     "grade": false,
     "grade_id": "cell-84c880dd442a461b",
     "locked": true,
     "schema_version": 1,
     "solution": false
    }
   },
   "source": [
    "The optimization task is to find the $\\varphi_*$ and $\\lambda_*$ that maximize $\\hat{J}$:\n",
    "\n",
    "$$\n",
    "\\begin{array}{rcl}\n",
    "  (\\varphi_*, \\lambda_*)\n",
    "    & \\equiv & \\displaystyle\n",
    "      \\underset{\\varphi, \\lambda}{\\arg\\max} \\, \\hat{J}(\\varphi, \\lambda).\n",
    "\\end{array}\n",
    "$$"
   ]
  },
  {
   "cell_type": "markdown",
   "metadata": {
    "nbgrader": {
     "grade": false,
     "grade_id": "cell-6d1d9c41d52b9574",
     "locked": true,
     "schema_version": 1,
     "solution": false
    }
   },
   "source": [
    "To solve this optimization problem, you just need to \"take derivatives\" of $\\hat{J}$ with respect to $\\varphi$ and $\\lambda$, and then set these derivatives to 0.\n",
    "\n",
    "**Exercise (optional).** Show that\n",
    "\n",
    "$$\n",
    "\\begin{array}{rcl}\n",
    "  \\nabla_\\varphi \\hat{J} & = & C \\varphi - \\lambda \\varphi \\\\\n",
    "  \\displaystyle \\frac{\\partial}{\\partial \\lambda} \\hat{J} & = & \\frac{1}{2} (1 - \\varphi^T \\varphi).\n",
    "\\end{array}\n",
    "$$\n",
    "\n",
    "Setting these to zero and solving yields the following computational problem:\n",
    "\n",
    "$$\n",
    "\\begin{array}{rcl}\n",
    "  C \\varphi = \\frac{1}{m} X^T X \\varphi & = & \\lambda \\varphi \\\\\n",
    "  \\| \\varphi \\|_2^2 & = & 1.\n",
    "\\end{array}\n",
    "$$\n",
    "\n",
    "> Is it now clear why the constraint was incorporated into $\\hat{J}$ as it was? Doing so produces a second equation that _exactly_ captures the constraint!\n",
    "\n",
    "This problem is an _eigenproblem_, which is the task of computing an eigenvalue and its corresponding eigenvector of $C = \\frac{1}{m} X^T X$."
   ]
  },
  {
   "cell_type": "markdown",
   "metadata": {
    "nbgrader": {
     "grade": false,
     "grade_id": "cell-24be5a1cb81216a6",
     "locked": true,
     "schema_version": 1,
     "solution": false
    }
   },
   "source": [
    "The matrix $C$ will usually have many eigenvalues and eigenvectors. So which one do you want? Plug the eigenvector back into the original cost function. Then, $J(\\varphi) = \\frac{1}{2} \\varphi^T C \\varphi = \\frac{\\lambda}{2} \\varphi^T \\varphi = \\frac{\\lambda}{2}$. In other words, to maximize $J(\\varphi)$ you should pick the $\\varphi$ with the largest eigenvalue $\\lambda$."
   ]
  },
  {
   "cell_type": "markdown",
   "metadata": {
    "nbgrader": {
     "grade": false,
     "grade_id": "cell-d28ca58132d2e720",
     "locked": true,
     "schema_version": 1,
     "solution": false
    }
   },
   "source": [
    "### Finding an eigenpair via the SVD\n",
    "\n",
    "So how do you find the eigenvectors of $C$? That is, what algorithm will compute them?\n",
    "\n",
    "One way is to form $C$ explicitly and then call an off-the-shelf eigensolver. However, forming $C$ explicitly from the data $X$ may be costly in time and storage, not to mention possibly less accurate. (Recall the condition number blow-up problem in the case of solving the normal equations.)\n",
    "\n",
    "Instead, we can turn to the \"Swiss Army knife\" of linear algebra, which is the _singular value decomposition_, or SVD. It is an extremely versatile tool for simplifying linear algebra problems. It can also be somewhat expensive to compute accurately, but a lot of scientific and engineering effort has gone into building robust and reasonably efficient SVD algorithms. So let's assume these exist -- and they do in both [Numpy](http://docs.scipy.org/doc/numpy/reference/generated/numpy.linalg.svd.html) and [Scipy](http://docs.scipy.org/doc/scipy/reference/generated/scipy.sparse.linalg.svds.html) -- and use them accordingly."
   ]
  },
  {
   "cell_type": "markdown",
   "metadata": {
    "nbgrader": {
     "grade": false,
     "grade_id": "cell-b9ce5b2bda3033f7",
     "locked": true,
     "schema_version": 1,
     "solution": false
    }
   },
   "source": [
    "**The SVD.** Every real-valued matrix $X \\in \\mathbb{R}^{m \\times d}$ has a _singular value decomposition_. Let $s = \\min(m, d)$, i.e., the smaller of the number of rows or columns. Then the SVD of $X$ is the factorization, $X = U \\Sigma V^T$, where $U$, $\\Sigma$, and $V^T$ are defined as follows."
   ]
  },
  {
   "cell_type": "markdown",
   "metadata": {},
   "source": [
    "The matrices $U \\in \\mathbb{R}^{m \\times s}$ and $V \\in \\mathbb{R}^{d \\times s}$ are orthogonal matrices, meaning $U^T U = I$ and $V^T V = I$; and the matrix $\\Sigma$ is an $s \\times s$ diagonal matrix.\n",
    "\n",
    "> Note that $V$ is taken to be $d \\times s$, so that the $V^T$ that appears in $U \\Sigma V^T$ is $s \\times d$.)\n",
    "\n",
    "The columns of $U$ are also known as the _left singular vectors_, and the columns of $V$ are the _right singular vectors_ of $X$. Using our usual \"column-view\" of a matrix, these vectors are denoted by $u_i$ and $v_i$:\n",
    "\n",
    "$$\n",
    "\\begin{array}{rcl}\n",
    "  U & = & \\begin{bmatrix} u_0 & u_1 & \\cdots & u_{s-1} \\end{bmatrix} \\\\\n",
    "  V & = & \\begin{bmatrix} v_0 & v_1 & \\cdots & v_{s-1} \\end{bmatrix}\n",
    "\\end{array}\n",
    "$$"
   ]
  },
  {
   "cell_type": "markdown",
   "metadata": {},
   "source": [
    "Regarding the diagonal matrix $\\Sigma$, its entries are, collectively, called the _singular values_ of $X$:\n",
    "\n",
    "$$\n",
    "\\begin{bmatrix}\n",
    "  \\sigma_0 &          &        & \\\\\n",
    "           & \\sigma_1 &        & \\\\\n",
    "           &          & \\ddots & \\\\\n",
    "           &          &        & \\sigma_{s-1}\n",
    "\\end{bmatrix}.\n",
    "$$"
   ]
  },
  {
   "cell_type": "markdown",
   "metadata": {},
   "source": [
    "From these definitions, the SVD implies that $X V = U \\Sigma$. This form is just a compact way of writing down a _system_ of independent vector equations,\n",
    "\n",
    "$$\n",
    "\\begin{array}{rcl}\n",
    "  X v_i & = & \\sigma_i u_i.\n",
    "\\end{array}\n",
    "$$"
   ]
  },
  {
   "cell_type": "markdown",
   "metadata": {
    "nbgrader": {
     "grade": false,
     "grade_id": "cell-76a248c3660bbece",
     "locked": true,
     "schema_version": 1,
     "solution": false
    }
   },
   "source": [
    "Recall that in PCA, you want to evaluate $C = \\frac{1}{m} X^T X$. In terms of the SVD,\n",
    "\n",
    "$$X^T X = V \\Sigma^T U^T U \\Sigma V^T = V \\Sigma^2 V^T,$$\n",
    "\n",
    "or\n",
    "\n",
    "$$X^T X V = V \\Sigma^2.$$\n",
    "\n",
    "This relation may in turn be rewritten as the system of vector equations,\n",
    "\n",
    "$$\n",
    "\\begin{array}{rcl}\n",
    "  X^T X v_i & = & \\sigma_i^2 v_i.\n",
    "\\end{array}\n",
    "$$\n",
    "\n",
    "In other words, every pair $(\\varphi, \\lambda) \\equiv \\left(v_i, \\frac{\\sigma_i^2}{m}\\right)$ is a potential solution to the eigenproblem, $C\\varphi = \\frac{1}{m} X^T X \\varphi = \\lambda \\varphi$. The pair with the largest eigenvalue is $\\left(v_0, \\frac{\\sigma_0^2}{m}\\right)$."
   ]
  },
  {
   "cell_type": "markdown",
   "metadata": {
    "nbgrader": {
     "grade": false,
     "grade_id": "cell-7a79cfcf173899aa",
     "locked": true,
     "schema_version": 1,
     "solution": false
    }
   },
   "source": [
    "### Rank-$k$ approximations: the truncated SVD\n",
    "\n",
    "We motivated PCA by asking for a single vector $\\varphi$, which effectively projects the data onto a one-dimensional subspace (i.e., a line). You might instead want to represent the original $d$-dimensional data points on a $k$-dimensional surface or subspace, where $k \\leq s \\leq d$. As the previous discussion suggests, you could choose the top-$k$ right singular vectors of $X$, $v_0, \\ldots, v_{k-1}$."
   ]
  },
  {
   "cell_type": "markdown",
   "metadata": {
    "nbgrader": {
     "grade": false,
     "grade_id": "cell-87fed5e4c30c3592",
     "locked": true,
     "schema_version": 1,
     "solution": false
    }
   },
   "source": [
    "Indeed, there is another \"principled\" reason for this choice.\n",
    "\n",
    "Let $A \\in \\mathbb{R}^{m \\times d}$ be any matrix with an SVD given by $A = U \\Sigma V^T$. Per the notation above, let $s \\equiv \\min(m, d)$.\n",
    "\n",
    "Then, define the _$k$-truncated SVD_ as follows. Consider any $k \\leq s$, and let $U_k$, $\\Sigma_k$, and $V_k$ consist of the singular vectors and values corresponding to the $k$ largest singular values. That is, $U_k$ is the first $k$ columns of $U$, $V_k$ is the first $k$ columns of $V$, and $\\Sigma_k$ is the upper $k \\times k$ submatrix of $\\Sigma$. The $k$-truncated SVD is the product $U_k \\Sigma_k V_k^T$."
   ]
  },
  {
   "cell_type": "markdown",
   "metadata": {
    "nbgrader": {
     "grade": false,
     "grade_id": "cell-3d173997ffce21fe",
     "locked": true,
     "schema_version": 1,
     "solution": false
    }
   },
   "source": [
    "Now consider the following alternative way to write the SVD:\n",
    "\n",
    "$$\n",
    "  A = U \\Sigma V^T = \\sum_{i=0}^{s-1} u_i \\sigma_i v_i^T.\n",
    "$$\n",
    "\n",
    "Each term, $u_i \\sigma_i v_i^T$ is known as a _rank-$1$_ product. So the existence of the SVD means that $A$ may be written as a sum of rank-1 products.\n",
    "\n",
    "It would be natural to try to _approximate_ $A$ by truncating the SVD after $k$ terms, i.e.,\n",
    "\n",
    "$$\n",
    "  A \\approx U_k \\Sigma_k V_k^T = \\sum_{i=0}^{k-1} u_i \\sigma_i v_i^T.\n",
    "$$\n",
    "\n",
    "And in fact, there is _no_ rank-$k$ approximation of $A$ that is better than this one!"
   ]
  },
  {
   "cell_type": "markdown",
   "metadata": {
    "nbgrader": {
     "grade": false,
     "grade_id": "cell-dd82e9860c57fd53",
     "locked": true,
     "schema_version": 1,
     "solution": false
    }
   },
   "source": [
    "In particular, consider _any_ pair of $k$ column vectors, $Y_k \\in \\mathbb{R}^{m \\times k}$ and $Z_k \\in \\mathbb{R}^{d \\times k}$; their product, $Y_k Z_k$ has rank at most $k$. Then there is a theorem that says the smallest difference between $A$ and the rank-$k$ product $Y_k Z_k$, measured in the Frobenius norm, is\n",
    "\n",
    "$$\n",
    "  \\min_{Y_k, Z_k} \\|A - Y_k Z_k^T\\|_F^2\n",
    "    = \\|A - U_k \\Sigma_k V_k^T\\|_F^2\n",
    "    = \\sigma_{k}^2 + \\sigma_{k+1}^2 + \\sigma_{k+2}^2 + \\cdots + \\sigma_{s-1}^2.\n",
    "$$\n",
    "\n",
    "In other words, the truncated SVD gives the best rank-$k$ approximation to $A$ in the Frobenius norm. Moreover, the error of the approximation is the sum of the squares of all the smallest $s-k$ singular values.\n",
    "\n",
    "Applied to the covariance matrix, we may conclude that $C = \\frac{1}{m} X^T X \\approx \\frac{1}{m} V_k \\Sigma_k^2 V_k^T$ is in fact the best rank-$k$ approximation of $C$, which justifies choosing the $k$ eigenvectors corresponding to the top $k$ eigenvalues of $C$ as the principal components."
   ]
  },
  {
   "cell_type": "markdown",
   "metadata": {
    "nbgrader": {
     "grade": false,
     "grade_id": "cell-b9c10b75104efd28",
     "locked": true,
     "schema_version": 1,
     "solution": false
    }
   },
   "source": [
    "### Summary: The PCA algorithm\n",
    "\n",
    "Based on the preceding discussion, here is the basic algorithm to compute the PCA, given the data $X$ and the desired dimension $k$ of the subspace.\n",
    "\n",
    "1. If the data are not already centered, transform them so that they have a mean of 0 in all coordinates, i.e., $\\displaystyle \\frac{1}{m} \\sum_{i=0}^{m-1} \\hat{x}_i = 0$.\n",
    "2. Compute the $k$-truncated SVD, $\\displaystyle X \\approx U_k \\Sigma_k V_k^T$.\n",
    "3. Choose $v_0, v_1, \\ldots, v_{k-1}$ to be the principal components."
   ]
  },
  {
   "cell_type": "markdown",
   "metadata": {
    "collapsed": true,
    "nbgrader": {
     "grade": false,
     "grade_id": "cell-49778489d908a83e",
     "locked": true,
     "schema_version": 1,
     "solution": false
    }
   },
   "source": [
    "## Demo: PCA on the UK Nutrition Study data\n",
    "\n",
    "Let's try this algorithm out on the UK Nutrition Study data from above."
   ]
  },
  {
   "cell_type": "code",
   "execution_count": 6,
   "metadata": {
    "nbgrader": {
     "grade": false,
     "grade_id": "cell-51e5e2ac769f56ad",
     "locked": true,
     "schema_version": 1,
     "solution": false
    }
   },
   "outputs": [
    {
     "name": "stdout",
     "output_type": "stream",
     "text": [
      "X_raw: (4, 17)\n",
      "s = min(4, 17) == 4\n"
     ]
    }
   ],
   "source": [
    "countries = ['England', 'Northern Ireland', 'Scotland', 'Wales']\n",
    "products = df_uk['Product']\n",
    "X_raw = df_uk[countries].as_matrix().T\n",
    "print(\"X_raw:\", X_raw.shape)\n",
    "\n",
    "s = min(X_raw.shape)\n",
    "print(\"s = min({}, {}) == {}\".format(X_raw.shape[0], X_raw.shape[1], s))"
   ]
  },
  {
   "cell_type": "code",
   "execution_count": 7,
   "metadata": {
    "collapsed": true,
    "nbgrader": {
     "grade": false,
     "grade_id": "cell-4f601c73bf36240d",
     "locked": true,
     "schema_version": 1,
     "solution": false
    }
   },
   "outputs": [],
   "source": [
    "X = X_raw - np.mean(X_raw, axis=0)"
   ]
  },
  {
   "cell_type": "code",
   "execution_count": 8,
   "metadata": {
    "nbgrader": {
     "grade": false,
     "grade_id": "cell-285e20c1a0dca144",
     "locked": true,
     "schema_version": 1,
     "solution": false
    }
   },
   "outputs": [
    {
     "name": "stdout",
     "output_type": "stream",
     "text": [
      "U: (4, 4)\n",
      "Sigma: (4,)\n",
      "VT: (4, 17)\n"
     ]
    }
   ],
   "source": [
    "U, Sigma, VT = np.linalg.svd(X, full_matrices=False) # What does the `full_matrices` flag do?\n",
    "print(\"U:\", U.shape)\n",
    "print(\"Sigma:\", Sigma.shape)\n",
    "print(\"VT:\", VT.shape)"
   ]
  },
  {
   "cell_type": "code",
   "execution_count": 10,
   "metadata": {
    "nbgrader": {
     "grade": false,
     "grade_id": "cell-920407e35c661faf",
     "locked": true,
     "schema_version": 1,
     "solution": false
    }
   },
   "outputs": [
    {
     "data": {
      "image/png": "[encoded data removed]",
      "text/plain": [
       "<matplotlib.figure.Figure at 0x7fb9f824a668>"
      ]
     },
     "metadata": {},
     "output_type": "display_data"
    }
   ],
   "source": [
    "m, d = X.shape\n",
    "k_approx = 2\n",
    "assert k_approx <= s\n",
    "\n",
    "# Plot the components of the first k_approx=2 singular vectors\n",
    "fig, axs = plt.subplots(1, k_approx, sharex=True, sharey=True,\n",
    "                        figsize=(2.5*k_approx, 2.5))\n",
    "for k in range(k_approx):\n",
    "    axs[k].scatter(np.arange(max(m, d)), np.abs(VT[k, :].T))"
   ]
  },
  {
   "cell_type": "code",
   "execution_count": 11,
   "metadata": {
    "nbgrader": {
     "grade": false,
     "grade_id": "cell-880a05c1cbe7cd8b",
     "locked": true,
     "schema_version": 1,
     "solution": false
    }
   },
   "outputs": [
    {
     "name": "stdout",
     "output_type": "stream",
     "text": [
      "Entries of the 1st singular vector with the largest magnitude:\n",
      "0    Alcoholic drinks\n",
      "8         Fresh fruit\n",
      "9      Fresh potatoes\n",
      "Name: Product, dtype: object\n",
      "\n",
      "Entries of the 2nd singular vector with the largest magnitude:\n",
      "9     Fresh potatoes\n",
      "15       Soft drinks\n",
      "Name: Product, dtype: object\n"
     ]
    }
   ],
   "source": [
    "print(\"Entries of the 1st singular vector with the largest magnitude:\")\n",
    "print(products[[0, 8, 9]])\n",
    "\n",
    "print(\"\\nEntries of the 2nd singular vector with the largest magnitude:\")\n",
    "print(products[[9, 15]])"
   ]
  },
  {
   "cell_type": "code",
   "execution_count": 12,
   "metadata": {
    "nbgrader": {
     "grade": true,
     "grade_id": "cell-d1cb2c73d30af839",
     "locked": true,
     "points": 0,
     "schema_version": 1,
     "solution": false
    }
   },
   "outputs": [
    {
     "name": "stderr",
     "output_type": "stream",
     "text": [
      "/usr/local/lib/python3.5/dist-packages/matplotlib/cbook/deprecation.py:106: MatplotlibDeprecationWarning: Adding an axes using the same arguments as a previous axes currently reuses the earlier instance.  In a future version, a new instance will always be created and returned.  Meanwhile, this warning can be suppressed, and the future behavior ensured, by passing a unique label to each axes instance.\n",
      "  warnings.warn(message, mplDeprecation, stacklevel=1)\n"
     ]
    },
    {
     "data": {
      "text/plain": [
       "(-276.44818576299815, 513.3106769439385, -311.64182973017, 478.1170329767666)"
      ]
     },
     "execution_count": 12,
     "metadata": {},
     "output_type": "execute_result"
    },
    {
     "data": {
      "image/png": "[encoded data removed]",
      "text/plain": [
       "<matplotlib.figure.Figure at 0x7fb9f8200cf8>"
      ]
     },
     "metadata": {},
     "output_type": "display_data"
    }
   ],
   "source": [
    "fig = plt.figure(figsize=(3, 3))\n",
    "Y_k = X.dot(VT[0:2, :].T)\n",
    "plt.scatter(Y_k[:, 0], Y_k[:, 1])\n",
    "for x, y, label in zip(Y_k[:, 0], Y_k[:, 1], countries):\n",
    "    plt.annotate(label, xy=(x, y))\n",
    "ax = plt.axes()\n",
    "ax.axis('square')"
   ]
  },
  {
   "cell_type": "markdown",
   "metadata": {
    "collapsed": true,
    "nbgrader": {
     "grade": false,
     "grade_id": "cell-d4c700494c914fe7",
     "locked": true,
     "schema_version": 1,
     "solution": false
    }
   },
   "source": [
    "**Fin!** That's the end of these notes. If you've understood them, you are ready to move on to the next notebook in this assignment."
   ]
  }
 ],
 "metadata": {
  "celltoolbar": "Create Assignment",
  "kernelspec": {
   "display_name": "Python 3",
   "language": "python",
   "name": "python3"
  },
  "language_info": {
   "codemirror_mode": {
    "name": "ipython",
    "version": 3
   },
   "file_extension": ".py",
   "mimetype": "text/x-python",
   "name": "python",
   "nbconvert_exporter": "python",
   "pygments_lexer": "ipython3",
   "version": "3.6.2"
  }
 },
 "nbformat": 4,
 "nbformat_minor": 1
}
